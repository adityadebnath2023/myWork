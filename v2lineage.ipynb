{
 "cells": [
  {
   "cell_type": "code",
   "execution_count": 55,
   "id": "b4f8d223-82bd-4b53-8816-4dd7a11653b8",
   "metadata": {},
   "outputs": [],
   "source": [
    "import os\n",
    "import json\n",
    "import ast\n",
    "import networkx as nx\n",
    "import matplotlib.pyplot as plt\n"
   ]
  },
  {
   "cell_type": "code",
   "execution_count": 56,
   "id": "554e9779-3d30-4184-8c3a-da4411864e7f",
   "metadata": {},
   "outputs": [
    {
     "data": {
      "text/plain": [
       "{'a.py': 'def a():\\n    a = 1\\n    return a',\n",
       " 'b.py': 'def b():\\n    b = 3\\n    return b',\n",
       " 'c.py': 'def c(m,n):\\n    k = m + n\\n    return k',\n",
       " 'd.py': 'def d():\\n    d = 5\\n    return d',\n",
       " 'main.py': 'import a\\nimport b\\nimport c as calc\\nimport d\\n\\ntemp = calc.c(b.b(),d.d())\\nanswer = a.a()+temp\\nprint(answer) '}"
      ]
     },
     "execution_count": 56,
     "metadata": {},
     "output_type": "execute_result"
    }
   ],
   "source": [
    "\n",
    "def parse_python_folder(folder_path):\n",
    "    folder_contents = {}\n",
    "    \n",
    "    # Iterate through all files in the directory\n",
    "    for filename in os.listdir(folder_path):\n",
    "        if filename.endswith(\".py\"):  # Process only Python files\n",
    "            file_path = os.path.join(folder_path, filename)\n",
    "            with open(file_path, \"r\", encoding=\"utf-8\") as file:\n",
    "                folder_contents[filename] = f\"\"\"{file.read()}\"\"\"\n",
    "    \n",
    "    return folder_contents\n",
    "\n",
    "# Example usage\n",
    "folder_path = \"files\"  # Change this to your actual folder path\n",
    "folder_contents = parse_python_folder(folder_path)\n",
    "\n",
    "# Convert to JSON string for output\n",
    "json_output = json.dumps(folder_contents, indent=4)\n",
    "folder_contents\n"
   ]
  },
  {
   "cell_type": "code",
   "execution_count": 59,
   "id": "4a5d887a-4b34-438e-8ec8-c92e5ce64580",
   "metadata": {
    "scrolled": true
   },
   "outputs": [
    {
     "name": "stdout",
     "output_type": "stream",
     "text": [
      "a.py: [('a', 'a')]\n",
      "b.py: [('b', 'b')]\n",
      "c.py: [('k', 'c'), ('m', 'k'), ('n', 'k')]\n",
      "d.py: [('d', 'd')]\n",
      "main.py: [('calc', 'temp'), ('b', 'calc'), ('d', 'calc'), ('a', 'answer'), ('temp', 'answer')]\n"
     ]
    }
   ],
   "source": [
    "import ast\n",
    "\n",
    "def extract_dependencies(node, dependencies, current_target=None, function_name=None):\n",
    "    \"\"\"Recursively extract dependencies from AST nodes.\"\"\"\n",
    "    if isinstance(node, ast.FunctionDef):\n",
    "        function_name = node.name\n",
    "        dependencies.setdefault(function_name, [])  \n",
    "        for stmt in node.body:\n",
    "            extract_dependencies(stmt, dependencies, function_name=function_name)\n",
    "\n",
    "    elif isinstance(node, ast.Assign):\n",
    "        for target in node.targets:\n",
    "            if isinstance(target, ast.Name):\n",
    "                dependencies.setdefault(target.id, []) \n",
    "                extract_dependencies(node.value, dependencies, target.id)\n",
    "\n",
    "    elif isinstance(node, ast.BinOp):\n",
    "        extract_dependencies(node.left, dependencies, current_target)\n",
    "        extract_dependencies(node.right, dependencies, current_target)\n",
    "\n",
    "    elif isinstance(node, ast.Call):\n",
    "        func_name = None\n",
    "        if isinstance(node.func, ast.Name):  \n",
    "            func_name = node.func.id\n",
    "        elif isinstance(node.func, ast.Attribute) and isinstance(node.func.value, ast.Name):\n",
    "            func_name = node.func.value.id\n",
    "\n",
    "        if func_name:\n",
    "            dependencies.setdefault(func_name, []) \n",
    "            if current_target:\n",
    "                dependencies.setdefault(current_target, []) \n",
    "                dependencies[current_target].append(func_name)  \n",
    "\n",
    "            for arg in node.args:\n",
    "                extract_dependencies(arg, dependencies, func_name) \n",
    "\n",
    "    elif isinstance(node, ast.Name):\n",
    "        if current_target:\n",
    "            dependencies.setdefault(current_target, [])  \n",
    "            dependencies[current_target].append(node.id)\n",
    "\n",
    "    elif isinstance(node, ast.Return) and function_name:\n",
    "        if isinstance(node.value, ast.Name):\n",
    "            dependencies.setdefault(node.value.id, []) \n",
    "            dependencies.setdefault(function_name, []) \n",
    "            dependencies[function_name].append(node.value.id)  \n",
    "\n",
    "def parse_code(code):\n",
    "    \"\"\"Parse Python code and extract dependencies.\"\"\"\n",
    "    tree = ast.parse(code)\n",
    "    dependencies = {}\n",
    "    for stmt in tree.body:\n",
    "        extract_dependencies(stmt, dependencies)\n",
    "    \n",
    "    edges = [(src, dst) for dst, sources in dependencies.items() for src in sources]\n",
    "    return edges\n",
    "\n",
    "\n",
    "for key in folder_contents:\n",
    "    edges = parse_code(folder_contents[key])\n",
    "    print(f\"{key}: {edges}\")\n",
    "\n",
    "    # # Create a directed graph\n",
    "    # G = nx.DiGraph()\n",
    "    # G.add_edges_from(edges)\n",
    "    \n",
    "    # # Draw graph\n",
    "    # plt.figure(figsize=(6, 6))\n",
    "    # nx.draw(G, with_labels=True, node_color=\"lightblue\", edge_color=\"gray\", node_size=3000, font_size=12)\n",
    "    # plt.show()\n"
   ]
  },
  {
   "cell_type": "code",
   "execution_count": null,
   "id": "6d56ca76-8475-4261-8ee4-72628d2573ac",
   "metadata": {},
   "outputs": [],
   "source": []
  }
 ],
 "metadata": {
  "kernelspec": {
   "display_name": "Python 3 (ipykernel)",
   "language": "python",
   "name": "python3"
  },
  "language_info": {
   "codemirror_mode": {
    "name": "ipython",
    "version": 3
   },
   "file_extension": ".py",
   "mimetype": "text/x-python",
   "name": "python",
   "nbconvert_exporter": "python",
   "pygments_lexer": "ipython3",
   "version": "3.12.7"
  }
 },
 "nbformat": 4,
 "nbformat_minor": 5
}
