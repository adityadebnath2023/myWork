{
 "cells": [
  {
   "cell_type": "code",
   "execution_count": null,
   "id": "e99b7550-4ad9-4630-9a04-b9adeb555676",
   "metadata": {},
   "outputs": [],
   "source": [
    "import os\n",
    "import ast\n",
    "import re\n",
    "import pandas as pd\n",
    "from langchain_openai import ChatOpenAI\n",
    "from langchain_core.messages import AIMessage, BaseMessage, HumanMessage\n",
    "from langchain_core.prompts import ChatPromptTemplate, MessagesPlaceholder\n",
    "\n",
    "\n"
   ]
  },
  {
   "cell_type": "code",
   "execution_count": 27,
   "id": "93b1b11d-9884-4d8e-ba95-8f379ea8586e",
   "metadata": {},
   "outputs": [
    {
     "name": "stdout",
     "output_type": "stream",
     "text": [
      "True\n",
      "True\n"
     ]
    }
   ],
   "source": [
    "print(os.path.exists(\"files\"))\n",
    "print(os.path.isdir(\"files\"))"
   ]
  },
  {
   "cell_type": "code",
   "execution_count": 100,
   "id": "8c112153-89ca-4f75-834c-311f989b8d4d",
   "metadata": {},
   "outputs": [
    {
     "data": {
      "text/plain": [
       "['files\\\\a.py', 'files\\\\b.py', 'files\\\\c.py', 'files\\\\d.py', 'files\\\\main.py']"
      ]
     },
     "execution_count": 100,
     "metadata": {},
     "output_type": "execute_result"
    }
   ],
   "source": [
    "def get_python_files(folder_path):\n",
    "    \"\"\"Retrieve all Python files in the given folder.\"\"\"\n",
    "    return [os.path.join(folder_path, f) for f in os.listdir(folder_path) if f.endswith(\".py\")]\n",
    "\n",
    "get_python_files(\"files\")"
   ]
  },
  {
   "cell_type": "code",
   "execution_count": 101,
   "id": "be8691af-98dd-4875-a5c0-5375912e023a",
   "metadata": {},
   "outputs": [
    {
     "data": {
      "text/plain": [
       "\"Module(filename='files\\\\a.py', \\n  body=[\\n    FunctionDef(\\n      name='a',\\n      args=arguments(\\n        posonlyargs=[],\\n        args=[],\\n        kwonlyargs=[],\\n        kw_defaults=[],\\n        defaults=[]),\\n      body=[\\n        Assign(\\n          targets=[\\n            Name(id='a', ctx=Store())],\\n          value=Constant(value=1)),\\n        Return(\\n          value=Name(id='a', ctx=Load()))],\\n      decorator_list=[],\\n      type_params=[])],\\n  type_ignores=[])\""
      ]
     },
     "execution_count": 101,
     "metadata": {},
     "output_type": "execute_result"
    }
   ],
   "source": [
    "processes = []\n",
    "files = get_python_files(\"files\")\n",
    "for file in files:\n",
    "    with open(file, \"r\", encoding=\"utf-8\") as f:\n",
    "        source_code = f.read()\n",
    "        tree = ast.parse(source_code, filename=file, mode='exec')\n",
    "        data = ast.dump(tree, indent=2).replace(\"Module(\", f\"Module(filename='{file}', \")\n",
    "        processes.append(data)\n",
    "processes[0]"
   ]
  },
  {
   "cell_type": "code",
   "execution_count": 98,
   "id": "bb901e06-9127-4e87-9a45-e82441fe4421",
   "metadata": {},
   "outputs": [
    {
     "name": "stderr",
     "output_type": "stream",
     "text": [
      "<unknown>:1: SyntaxWarning: invalid escape sequence '\\c'\n",
      "<unknown>:1: SyntaxWarning: invalid escape sequence '\\d'\n",
      "<unknown>:1: SyntaxWarning: invalid escape sequence '\\m'\n"
     ]
    }
   ],
   "source": [
    "def extract_variable_lineage(ast_string):\n",
    "    \"\"\"\n",
    "    Parses an AST string to extract variable assignments and their sources.\n",
    "    Returns a list of (filename, function, variable, source) tuples.\n",
    "    \"\"\"\n",
    "    tree = ast.parse(ast_string)\n",
    "    filename = None\n",
    "    lineage = []\n",
    "\n",
    "    for node in ast.walk(tree):\n",
    "        if isinstance(node, ast.Module):\n",
    "            filename = getattr(node, \"filename\", \"unknown\")\n",
    "\n",
    "        elif isinstance(node, ast.FunctionDef):\n",
    "            func_name = node.name\n",
    "\n",
    "            for stmt in node.body:\n",
    "                if isinstance(stmt, ast.Assign):\n",
    "                    target = stmt.targets[0].id if isinstance(stmt.targets[0], ast.Name) else \"unknown\"\n",
    "                    if isinstance(stmt.value, ast.Constant):\n",
    "                        source = str(stmt.value.value)\n",
    "                    elif isinstance(stmt.value, ast.BinOp):\n",
    "                        left = stmt.value.left.id if isinstance(stmt.value.left, ast.Name) else \"?\"\n",
    "                        right = stmt.value.right.id if isinstance(stmt.value.right, ast.Name) else \"?\"\n",
    "                        source = f\"{left} + {right}\"\n",
    "                    elif isinstance(stmt.value, ast.Call):\n",
    "                        func_call = stmt.value.func\n",
    "                        if isinstance(func_call, ast.Attribute):\n",
    "                            source = f\"{func_call.value.id}.{func_call.attr}()\"\n",
    "                        else:\n",
    "                            source = \"function call\"\n",
    "                    else:\n",
    "                        source = \"unknown\"\n",
    "                    \n",
    "                    lineage.append((filename, func_name, target, source))\n",
    "\n",
    "    return lineage\n",
    "\n",
    "# Process all AST representations\n",
    "data = []\n",
    "for ast_str in processes:\n",
    "    data.extend(extract_variable_lineage(ast_str))\n",
    "\n",
    "# Create DataFrame\n",
    "df = pd.DataFrame(data, columns=[\"File\", \"Function\", \"Variable\", \"Source of Value\"])\n"
   ]
  },
  {
   "cell_type": "code",
   "execution_count": 99,
   "id": "f243742e-3590-4896-9688-f9811a7f860c",
   "metadata": {},
   "outputs": [
    {
     "data": {
      "text/html": [
       "<div>\n",
       "<style scoped>\n",
       "    .dataframe tbody tr th:only-of-type {\n",
       "        vertical-align: middle;\n",
       "    }\n",
       "\n",
       "    .dataframe tbody tr th {\n",
       "        vertical-align: top;\n",
       "    }\n",
       "\n",
       "    .dataframe thead th {\n",
       "        text-align: right;\n",
       "    }\n",
       "</style>\n",
       "<table border=\"1\" class=\"dataframe\">\n",
       "  <thead>\n",
       "    <tr style=\"text-align: right;\">\n",
       "      <th></th>\n",
       "      <th>File</th>\n",
       "      <th>Function</th>\n",
       "      <th>Variable</th>\n",
       "      <th>Source of Value</th>\n",
       "    </tr>\n",
       "  </thead>\n",
       "  <tbody>\n",
       "  </tbody>\n",
       "</table>\n",
       "</div>"
      ],
      "text/plain": [
       "Empty DataFrame\n",
       "Columns: [File, Function, Variable, Source of Value]\n",
       "Index: []"
      ]
     },
     "execution_count": 99,
     "metadata": {},
     "output_type": "execute_result"
    }
   ],
   "source": [
    "df"
   ]
  },
  {
   "cell_type": "code",
   "execution_count": null,
   "id": "4d63c37d-e0b4-49d2-b48b-dd2bff70d6ab",
   "metadata": {},
   "outputs": [],
   "source": []
  }
 ],
 "metadata": {
  "kernelspec": {
   "display_name": "Python 3 (ipykernel)",
   "language": "python",
   "name": "python3"
  },
  "language_info": {
   "codemirror_mode": {
    "name": "ipython",
    "version": 3
   },
   "file_extension": ".py",
   "mimetype": "text/x-python",
   "name": "python",
   "nbconvert_exporter": "python",
   "pygments_lexer": "ipython3",
   "version": "3.12.7"
  }
 },
 "nbformat": 4,
 "nbformat_minor": 5
}
